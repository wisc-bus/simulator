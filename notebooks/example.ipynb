{
 "cells": [
  {
   "cell_type": "code",
   "execution_count": 3,
   "metadata": {},
   "outputs": [
    {
     "name": "stderr",
     "output_type": "stream",
     "text": [
      "/var/folders/n3/pv33hjv54ylc6fhldnnb8dgw0000gn/T/ipykernel_28823/3461697781.py:7: DeprecationWarning: \n",
      "Pyarrow will become a required dependency of pandas in the next major release of pandas (pandas 3.0),\n",
      "(to allow more performant data types, such as the Arrow string type, and better interoperability with other libraries)\n",
      "but was not found to be installed on your system.\n",
      "If this would cause problems for you,\n",
      "please provide us feedback at https://github.com/pandas-dev/pandas/issues/54466\n",
      "        \n",
      "  import pandas as pd\n"
     ]
    }
   ],
   "source": [
    "from pathlib import Path\n",
    "import sys\n",
    "import yaml\n",
    "import time\n",
    "\n",
    "import numpy as np\n",
    "import pandas as pd\n",
    "import geopandas as gpd\n",
    "import matplotlib.pyplot as plt\n",
    "\n",
    "DIR = Path('..')\n",
    "sys.path.append(str(DIR))\n",
    "from SCanalyzer import SCanalyzer\n",
    "from SCanalyzer.busSim import BusSim, Config\n",
    "from SCanalyzer.busSim.manager import managerFactory\n",
    "from SCanalyzer.gtfs_edit import edit_double\n",
    "\n",
    "%matplotlib inline"
   ]
  },
  {
   "cell_type": "code",
   "execution_count": 2,
   "metadata": {},
   "outputs": [],
   "source": [
    "def get_yelp_api_key():\n",
    "    with open(\"../config.yml\", 'r') as yml:\n",
    "        cfg = yaml.safe_load(yml)\n",
    "        return cfg[\"yelp\"][\"api_key\"]\n",
    "\n",
    "def plot_background():\n",
    "    background_path = \"../data/plot/background/\"\n",
    "    city = gpd.read_file(background_path + \"madison-meter-shp\")\n",
    "    lakes = gpd.read_file(background_path + \"water-meter-shp\")\n",
    "    street = gpd.read_file(background_path + \"street-meter-shp\")\n",
    "    # city = gpd.read_file(background_path + \"madison-shp\")\n",
    "    # lakes = gpd.read_file(background_path + \"water-shp\")\n",
    "    # street = gpd.read_file(background_path + \"street-shp\")\n",
    "\n",
    "    ax = city.plot(color=\"lightgray\", alpha=.2, figsize=(12, 12), zorder=2)\n",
    "    lakes.plot(color=\"lightblue\", ax=ax, zorder=1, alpha=0.8)\n",
    "    street.plot(color=\"darkgray\", alpha = .5, ax=ax, zorder=3)\n",
    "    return ax"
   ]
  },
  {
   "cell_type": "markdown",
   "metadata": {},
   "source": [
    "# route remove study"
   ]
  },
  {
   "cell_type": "code",
   "execution_count": 3,
   "metadata": {},
   "outputs": [
    {
     "ename": "NameError",
     "evalue": "name 'Gtfo' is not defined",
     "output_type": "error",
     "traceback": [
      "\u001b[0;31m---------------------------------------------------------------------------\u001b[0m",
      "\u001b[0;31mNameError\u001b[0m                                 Traceback (most recent call last)",
      "Cell \u001b[0;32mIn[3], line 1\u001b[0m\n\u001b[0;32m----> 1\u001b[0m gtfo \u001b[38;5;241m=\u001b[39m \u001b[43mGtfo\u001b[49m(\u001b[38;5;124m\"\u001b[39m\u001b[38;5;124m../data/mmt_gtfs.zip\u001b[39m\u001b[38;5;124m\"\u001b[39m)\n\u001b[1;32m      2\u001b[0m census_gdf \u001b[38;5;241m=\u001b[39m gtfo\u001b[38;5;241m.\u001b[39mload_census()\n\u001b[1;32m      3\u001b[0m services_gdf \u001b[38;5;241m=\u001b[39m gtfo\u001b[38;5;241m.\u001b[39mload_yelp(api_key\u001b[38;5;241m=\u001b[39mget_yelp_api_key())\n",
      "\u001b[0;31mNameError\u001b[0m: name 'Gtfo' is not defined"
     ]
    }
   ],
   "source": [
    "gtfo = Gtfo(\"../data/mmt_gtfs.zip\")\n",
    "census_gdf = gtfo.load_census()\n",
    "services_gdf = gtfo.load_yelp(api_key=get_yelp_api_key())\n",
    "\n",
    "routes = [ 2,  4,  5,  6,  7,  8, 10, 11, 12, 13, 15, 16, 17, 18, 20, 21, 22,\n",
    "       23, 26, 27, 30, 31, 32, 33, 36, 39, 40, 44, 48, 49, 50, 51, 52, 55,\n",
    "       67, 70, 72, 73, 75, 59, 63, 68, 78, 80, 84, 81, 82]\n",
    "for route in routes:\n",
    "    print(route)\n",
    "    gtfo.set_batch_label(f\"{route}-rm\")\n",
    "    config = Config(day=\"monday\", elapse_time=\"00:30:00\", interval=\"00:10:00\", max_walking_min=10, route_remove=[route])\n",
    "    config.set_starts(centroids=census_gdf)\n",
    "\n",
    "    perf_df = pd.DataFrame(\n",
    "            columns=[\"geometry\", \"start_time\", \"search_time\", \"add_service_time\", \"add_census_time\"])\n",
    "    result_gdf = gtfo.search(config, perf_df)\n",
    "    gtfo.add_service_metrics(result_gdf, services_gdf, perf_df)\n",
    "    gtfo.add_demographic_metrics(result_gdf, census_gdf, perf_df)\n",
    "    result_gdf.to_csv(f\"../out/result/result{route}.csv\", index=False)\n",
    "    perf_df.to_csv(f\"../out/perf/perf{route}.csv\", index=False)"
   ]
  },
  {
   "cell_type": "markdown",
   "metadata": {},
   "source": [
    "# route doubling study"
   ]
  },
  {
   "cell_type": "code",
   "execution_count": 4,
   "metadata": {},
   "outputs": [
    {
     "ename": "NameError",
     "evalue": "name 'perf_df' is not defined",
     "output_type": "error",
     "traceback": [
      "\u001b[0;31m---------------------------------------------------------------------------\u001b[0m",
      "\u001b[0;31mNameError\u001b[0m                                 Traceback (most recent call last)",
      "Cell \u001b[0;32mIn[4], line 1\u001b[0m\n\u001b[0;32m----> 1\u001b[0m \u001b[38;5;28mprint\u001b[39m(\u001b[43mperf_df\u001b[49m)\n",
      "\u001b[0;31mNameError\u001b[0m: name 'perf_df' is not defined"
     ]
    }
   ],
   "source": [
    "print(perf_df)"
   ]
  },
  {
   "cell_type": "code",
   "execution_count": null,
   "metadata": {},
   "outputs": [
    {
     "name": "stdout",
     "output_type": "stream",
     "text": [
      "Getting geodataframe for tracts from Tigerweb:\n",
      "https://tigerweb.geo.census.gov/arcgis/rest/services/Generalized_ACS2019/Tracts_Blocks/MapServer/4/query?geometry=-9952445.66%2C5324491.94&geometryType=esriGeometryPoint&spatialRel=esriSpatialRelIntersects&distance=19757.96&units=esriSRUnit_Meter&outFields=STATE%2CCOUNTY%2CTRACT%2CBLKGRP&returnGeometry=true&returnTrueCurves=false&returnIdsOnly=false&returnCountOnly=false&returnZ=false&returnM=false&returnDistinctValues=false&returnExtentOnly=false&featureEncoding=esriDefault&f=geojson\n",
      "Getting demographics data from Census.gov, this may take a couple minutes...\n"
     ]
    }
   ],
   "source": [
    "sc = SCanalyzer(\"../data/mmt_gtfs.zip\")\n",
    "census_gdf = sc.load_census()\n",
    "services_gdf = sc.load_yelp(api_key=get_yelp_api_key())\n",
    "config = Config(day=\"monday\", elapse_time=\"00:30:00\", interval=\"10:10:00\", max_walking_min=10)\n",
    "config.set_starts(centroids=census_gdf)\n",
    "\n",
    "routes = [ 2,  4,  5,  6,  7,  8, 10, 11, 12, 13, 15, 16, 17, 18, 20, 21, 22,\n",
    "       23, 26, 27, 30, 31, 32, 33, 36, 39, 40, 44, 48, 49, 50, 51, 52, 55,\n",
    "       67, 70, 72, 73, 75, 59, 63, 68, 78, 80, 84, 81, 82]\n",
    "routes = [80]\n",
    "for route in routes:\n",
    "    print(route)\n",
    "    sc.gtfs_edit(edit_double, route)\n",
    "    sc.set_batch_label(f\"{route}-double\")\n",
    "    perf_df = pd.DataFrame(\n",
    "            columns=[\"geometry\", \"start_time\", \"search_time\", \"add_service_time\", \"add_census_time\"])\n",
    "    result_gdf = sc.search(config, perf_df)\n",
    "    sc.add_service_metrics(result_gdf, services_gdf, perf_df)\n",
    "    sc.add_demographic_metrics(result_gdf, census_gdf, perf_df)\n",
    "    result_gdf.to_csv(f\"./out/result/result{route}-double.csv\", index=False)\n",
    "    perf_df.to_csv(f\"./out/perf/perf{route}-double.csv\", index=False)\n",
    "    break"
   ]
  },
  {
   "cell_type": "code",
   "execution_count": 1,
   "metadata": {},
   "outputs": [
    {
     "ename": "NameError",
     "evalue": "name 'SCanalyzer' is not defined",
     "output_type": "error",
     "traceback": [
      "\u001b[0;31m---------------------------------------------------------------------------\u001b[0m",
      "\u001b[0;31mNameError\u001b[0m                                 Traceback (most recent call last)",
      "Cell \u001b[0;32mIn[1], line 1\u001b[0m\n\u001b[0;32m----> 1\u001b[0m sc \u001b[38;5;241m=\u001b[39m \u001b[43mSCanalyzer\u001b[49m(\u001b[38;5;124m\"\u001b[39m\u001b[38;5;124m../data/mmt_gtfs.zip\u001b[39m\u001b[38;5;124m\"\u001b[39m)\n\u001b[1;32m      2\u001b[0m census_gdf \u001b[38;5;241m=\u001b[39m sc\u001b[38;5;241m.\u001b[39mload_census()\n\u001b[1;32m      3\u001b[0m config \u001b[38;5;241m=\u001b[39m Config(day\u001b[38;5;241m=\u001b[39m\u001b[38;5;124m\"\u001b[39m\u001b[38;5;124mmonday\u001b[39m\u001b[38;5;124m\"\u001b[39m, elapse_time\u001b[38;5;241m=\u001b[39m\u001b[38;5;124m\"\u001b[39m\u001b[38;5;124m00:30:00\u001b[39m\u001b[38;5;124m\"\u001b[39m, interval\u001b[38;5;241m=\u001b[39m\u001b[38;5;124m\"\u001b[39m\u001b[38;5;124m10:00:00\u001b[39m\u001b[38;5;124m\"\u001b[39m, max_walking_min\u001b[38;5;241m=\u001b[39m\u001b[38;5;241m10\u001b[39m)\n",
      "\u001b[0;31mNameError\u001b[0m: name 'SCanalyzer' is not defined"
     ]
    }
   ],
   "source": [
    "sc = SCanalyzer(\"../data/mmt_gtfs.zip\")\n",
    "census_gdf = sc.load_census()\n",
    "config = Config(day=\"monday\", elapse_time=\"00:30:00\", interval=\"10:00:00\", max_walking_min=10)\n",
    "# config.set_starts(points=[(43.073691, -89.387407), (43.073691, -89.387407)])\n",
    "config.set_starts(centroids=census_gdf)\n",
    "t0 = time.time()\n",
    "result_gdf = sc.search(config)\n",
    "t1 = time.time()\n",
    "print(t1-t0)\n",
    "\n",
    "services_gdf = sc.load_yelp(api_key=get_yelp_api_key())\n",
    "sc.add_service_metrics(result_gdf, services_gdf)\n",
    "t2 = time.time()\n",
    "print(t2-t1)\n",
    "\n",
    "sc.add_demographic_metrics(result_gdf, census_gdf) # SLOW\n",
    "t3 = time.time()\n",
    "print(t3-t2)\n",
    "result_gdf[\"banks\"].sum() #7263.0"
   ]
  },
  {
   "cell_type": "code",
   "execution_count": 2,
   "metadata": {},
   "outputs": [
    {
     "ename": "NameError",
     "evalue": "name 'sc' is not defined",
     "output_type": "error",
     "traceback": [
      "\u001b[0;31m---------------------------------------------------------------------------\u001b[0m",
      "\u001b[0;31mNameError\u001b[0m                                 Traceback (most recent call last)",
      "Cell \u001b[0;32mIn[2], line 1\u001b[0m\n\u001b[0;32m----> 1\u001b[0m \u001b[43msc\u001b[49m\u001b[38;5;241m.\u001b[39mgtfs_edit(edit_double, \u001b[38;5;241m80\u001b[39m)\n\u001b[1;32m      2\u001b[0m t0 \u001b[38;5;241m=\u001b[39m time\u001b[38;5;241m.\u001b[39mtime()\n\u001b[1;32m      3\u001b[0m result_gdf \u001b[38;5;241m=\u001b[39m sc\u001b[38;5;241m.\u001b[39msearch(config)\n",
      "\u001b[0;31mNameError\u001b[0m: name 'sc' is not defined"
     ]
    }
   ],
   "source": [
    "sc.gtfs_edit(edit_double, 80)\n",
    "t0 = time.time()\n",
    "result_gdf = sc.search(config)\n",
    "t1 = time.time()\n",
    "print(t1-t0)\n",
    "\n",
    "services_gdf = sc.load_yelp(api_key=get_yelp_api_key())\n",
    "sc.add_service_metrics(result_gdf, services_gdf)\n",
    "t2 = time.time()\n",
    "print(t2-t1)\n",
    "\n",
    "sc.add_demographic_metrics(result_gdf, census_gdf) # SLOW\n",
    "t3 = time.time()\n",
    "print(t3-t2)\n",
    "result_gdf[\"banks\"].sum() #7263.0"
   ]
  },
  {
   "cell_type": "code",
   "execution_count": 20,
   "metadata": {},
   "outputs": [
    {
     "data": {
      "text/plain": [
       "4441.0"
      ]
     },
     "execution_count": 20,
     "metadata": {},
     "output_type": "execute_result"
    }
   ],
   "source": [
    "result = pd.read_csv(\"./out/result/result80-double.csv\")\n",
    "result[\"banks\"].sum()"
   ]
  },
  {
   "cell_type": "markdown",
   "metadata": {},
   "source": [
    "# Visualize simulation"
   ]
  },
  {
   "cell_type": "code",
   "execution_count": 1,
   "metadata": {},
   "outputs": [
    {
     "ename": "NameError",
     "evalue": "name 'Gtfo' is not defined",
     "output_type": "error",
     "traceback": [
      "\u001b[0;31m---------------------------------------------------------------------------\u001b[0m",
      "\u001b[0;31mNameError\u001b[0m                                 Traceback (most recent call last)",
      "Cell \u001b[0;32mIn[1], line 1\u001b[0m\n\u001b[0;32m----> 1\u001b[0m gtfo \u001b[38;5;241m=\u001b[39m \u001b[43mGtfo\u001b[49m(\u001b[38;5;124m\"\u001b[39m\u001b[38;5;124m../data/mmt_gtfs.zip\u001b[39m\u001b[38;5;124m\"\u001b[39m)\n\u001b[1;32m      2\u001b[0m ax \u001b[38;5;241m=\u001b[39m plot_background()\n\u001b[1;32m      3\u001b[0m gtfo\u001b[38;5;241m.\u001b[39mset_batch_label(\u001b[38;5;124mf\u001b[39m\u001b[38;5;124m\"\u001b[39m\u001b[38;5;124m80-rm\u001b[39m\u001b[38;5;124m\"\u001b[39m)\n",
      "\u001b[0;31mNameError\u001b[0m: name 'Gtfo' is not defined"
     ]
    }
   ],
   "source": [
    "gtfo = Gtfo(\"../data/mmt_gtfs.zip\")\n",
    "ax = plot_background()\n",
    "gtfo.set_batch_label(f\"80-rm\")\n",
    "example_gdf = gtfo.load_result_map(map_identifier=\"search-result-0-600!10\")\n",
    "example_gdf.plot(color=\"#ffbfba\", ax=ax)"
   ]
  },
  {
   "cell_type": "markdown",
   "metadata": {},
   "source": [
    "# AWS test"
   ]
  },
  {
   "cell_type": "code",
   "execution_count": null,
   "metadata": {},
   "outputs": [],
   "source": [
    "from gtfo.busSim.manager import managerFactory\n",
    "aws = managerFactory.create(\"aws\", gtfs_path=None, city_path=None, out_path=None)"
   ]
  },
  {
   "cell_type": "code",
   "execution_count": null,
   "metadata": {},
   "outputs": [],
   "source": [
    "aws.clean_up()"
   ]
  },
  {
   "cell_type": "code",
   "execution_count": null,
   "metadata": {},
   "outputs": [],
   "source": [
    "import boto3\n",
    "aws_lambda = boto3.client('lambda', region_name='ap-northeast-1')\n",
    "with open(\"tmp.zip\", 'rb') as f:\n",
    "    response = aws_lambda.create_function(\n",
    "        Code={\n",
    "            'ZipFile': f.read()\n",
    "        },\n",
    "        Description='BusSim handler',\n",
    "        FunctionName=\"test\",\n",
    "        Handler='lambda_function.lambda_handler',\n",
    "        MemorySize=512,\n",
    "        Publish=True,\n",
    "        Role=\"arn:aws:iam::347664766527:role/s3rwRole\",\n",
    "        Runtime='python3.8',\n",
    "        Timeout=900,\n",
    "        TracingConfig={\n",
    "            'Mode': 'Active',\n",
    "        },\n",
    "    )"
   ]
  }
 ],
 "metadata": {
  "interpreter": {
   "hash": "398dc28c06ad810e77de546bbdfa897a6ee0b83e59a5207339dda01a7843e01d"
  },
  "kernelspec": {
   "display_name": "Python 3 (ipykernel)",
   "language": "python",
   "name": "python3"
  },
  "language_info": {
   "codemirror_mode": {
    "name": "ipython",
    "version": 3
   },
   "file_extension": ".py",
   "mimetype": "text/x-python",
   "name": "python",
   "nbconvert_exporter": "python",
   "pygments_lexer": "ipython3",
   "version": "3.10.10"
  },
  "metadata": {
   "interpreter": {
    "hash": "948cbe787796f35d370cbb3c22a8b7539e249b2486888efe0038f57b4dd2dfbc"
   }
  }
 },
 "nbformat": 4,
 "nbformat_minor": 4
}
