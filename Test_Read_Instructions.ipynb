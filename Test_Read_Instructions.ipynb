{
 "cells": [
  {
   "cell_type": "code",
   "execution_count": null,
   "id": "75183839-7320-42b7-87f5-8ef26b73a91b",
   "metadata": {},
   "outputs": [
    {
     "name": "stderr",
     "output_type": "stream",
     "text": [
      " 21%|█████████▏                                  | 5/24 [00:23<01:49,  5.75s/it]"
     ]
    }
   ],
   "source": [
    "from SCanalyzer import SCanalyzer\n",
    "from SCanalyzer.busSim import Config\n",
    "\n",
    "sc = SCanalyzer(\"./data/minneapolis_gtfs.zip\")\n",
    "config = Config(day=\"monday\", elapse_time=\"00:30:00\", interval=\"01:00:00\", max_walking_min=10) # run sim on Monday's schedule; run over a 30 min window for every hour; limit max walking to 10 min\n",
    "config.set_starts(points=[(43.073691, -89.387407)]) # set the starting point\n",
    "result_gdf = sc.search(config) # run Sim"
   ]
  },
  {
   "cell_type": "code",
   "execution_count": null,
   "id": "8c6fb118-c840-4bd5-b660-4c08182989e1",
   "metadata": {},
   "outputs": [
    {
     "name": "stdout",
     "output_type": "stream",
     "text": [
      "Getting geodataframe for tracts from Tigerweb:\n",
      "https://tigerweb.geo.census.gov/arcgis/rest/services/Generalized_ACS2019/Tracts_Blocks/MapServer/4/query?geometry=-10406328.01%2C5644272.76&geometryType=esriGeometryPoint&spatialRel=esriSpatialRelIntersects&distance=77222.14&units=esriSRUnit_Meter&outFields=STATE%2CCOUNTY%2CTRACT%2CBLKGRP&returnGeometry=true&returnTrueCurves=false&returnIdsOnly=false&returnCountOnly=false&returnZ=false&returnM=false&returnDistinctValues=false&returnExtentOnly=false&featureEncoding=esriDefault&f=geojson\n",
      "Getting demographics data from Census.gov, this may take a couple minutes...\n"
     ]
    }
   ],
   "source": [
    "from SCanalyzer import SCanalyzer\n",
    "from SCanalyzer.busSim import Config\n",
    "\n",
    "sc = SCanalyzer(\"./data/minneapolis_gtfs.zip\")\n",
    "config = Config(day=\"monday\", elapse_time=\"00:30:00\", interval=\"01:00:00\", max_walking_min=10) # run sim on Monday's schedule; run over a 30 min window for every hour; limit max walking to 10 min\n",
    "census_gdf = sc.load_census() # load the census data of the region\n",
    "config.set_starts(centroids=census_gdf) # set the starting points to be the centers of each census tracks\n",
    "result_gdf = sc.search(config) # run Sim\n",
    "services_gdf = sc.load_yelp(api_key=YOUR_YELP_API_KEY) # load service data from yelp\n",
    "sc.add_service_metrics(result_gdf, services_gdf) # combine Sim result with service data\n",
    "sc.add_demographic_metrics(result_gdf, census_gdf) # combine Sim result with census data\n",
    "result_gdf"
   ]
  },
  {
   "cell_type": "code",
   "execution_count": null,
   "id": "12d29d4b-868c-49ce-ab05-6657098ffd83",
   "metadata": {},
   "outputs": [],
   "source": []
  }
 ],
 "metadata": {
  "kernelspec": {
   "display_name": "Python 3 (ipykernel)",
   "language": "python",
   "name": "python3"
  },
  "language_info": {
   "codemirror_mode": {
    "name": "ipython",
    "version": 3
   },
   "file_extension": ".py",
   "mimetype": "text/x-python",
   "name": "python",
   "nbconvert_exporter": "python",
   "pygments_lexer": "ipython3",
   "version": "3.10.10"
  }
 },
 "nbformat": 4,
 "nbformat_minor": 5
}
